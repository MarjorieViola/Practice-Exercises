{
 "cells": [
  {
   "cell_type": "markdown",
   "metadata": {},
   "source": [
    "# minimax"
   ]
  },
  {
   "cell_type": "code",
   "execution_count": 5,
   "metadata": {},
   "outputs": [
    {
     "name": "stdout",
     "output_type": "stream",
     "text": [
      "Number:-1\n",
      "The maximum is: 0\n",
      "The minimum is: 101\n"
     ]
    }
   ],
   "source": [
    "inp = 1\n",
    "mmax = 0\n",
    "mmin = 101\n",
    "while 1 <= inp <= 100:\n",
    "    inp = float(input(\"Number:\"))\n",
    "    if inp < 1 or inp > 100:\n",
    "        break\n",
    "    if inp > mmax:\n",
    "        mmax = inp\n",
    "    if inp < mmin:\n",
    "        mmin = inp\n",
    "print(\"The maximum is:\",mmax)\n",
    "print(\"The minimum is:\",mmin)"
   ]
  },
  {
   "cell_type": "markdown",
   "metadata": {},
   "source": [
    "# Parkside's triangle"
   ]
  },
  {
   "cell_type": "code",
   "execution_count": 4,
   "metadata": {},
   "outputs": [
    {
     "name": "stdout",
     "output_type": "stream",
     "text": [
      "2 \n",
      "3 4 \n",
      "5 6 7 \n",
      "8 9 1 2 \n",
      "3 4 5 6 7 \n",
      "8 9 1 2 3 4 \n"
     ]
    }
   ],
   "source": [
    "def park(size,seed):\n",
    "    ctr = seed\n",
    "    for i in range(1,size+1):\n",
    "        for j in range(i):\n",
    "            print(ctr, end=\" \")\n",
    "            if ctr == 9:\n",
    "                ctr = 1\n",
    "            else:\n",
    "                ctr += 1\n",
    "        print()\n",
    "park(6,2)"
   ]
  },
  {
   "cell_type": "markdown",
   "metadata": {},
   "source": [
    "# OptiPrime"
   ]
  },
  {
   "cell_type": "code",
   "execution_count": 13,
   "metadata": {},
   "outputs": [
    {
     "data": {
      "text/plain": [
       "False"
      ]
     },
     "execution_count": 13,
     "metadata": {},
     "output_type": "execute_result"
    }
   ],
   "source": [
    "def prime(num):\n",
    "    for i in range(2,num+1):\n",
    "        if i == num:\n",
    "            return True\n",
    "        if num % i == 0:\n",
    "            return False\n",
    "def opti(num):\n",
    "    low = False\n",
    "    high = False\n",
    "    for i in range(num-2,num+1):\n",
    "        if prime(i):\n",
    "            low = True\n",
    "            break\n",
    "    for j in range(num+1,num+3):\n",
    "        if prime(j):\n",
    "            high = True\n",
    "            break\n",
    "    return prime(num) and low and high\n",
    "\n",
    "opti(7)"
   ]
  },
  {
   "cell_type": "markdown",
   "metadata": {},
   "source": [
    "# Name formatter"
   ]
  },
  {
   "cell_type": "code",
   "execution_count": 18,
   "metadata": {
    "scrolled": true
   },
   "outputs": [
    {
     "name": "stdout",
     "output_type": "stream",
     "text": [
      "First Name:Joselito\n",
      "Family Name:Olpoc\n",
      "Gender (1 for Male, 2 for Female, 3 for Prefer not to say):3\n",
      "Do you have a special title?(1 for yes, 2 for no)1\n",
      "What is your special title?(e.g. Dr., Atty.)Master\n",
      "Which name do you prefer I use? (1 for first name, 2 for family name)2\n",
      "Good day, Master Olpoc!\n"
     ]
    }
   ],
   "source": [
    "first = input(\"First Name:\")\n",
    "fam = input(\"Family Name:\")\n",
    "gender = input(\"Gender (1 for Male, 2 for Female, 3 for Prefer not to say):\")\n",
    "ask = input(\"Do you have a special title?(1 for yes, 2 for no)\")\n",
    "if ask == '1':\n",
    "    title = input(\"What is your special title?(e.g. Dr., Atty.)\")\n",
    "pref = input(\"Which name do you prefer I use? (1 for first name, 2 for family name)\")\n",
    "if pref == '1':\n",
    "    name = first\n",
    "elif pref == '2':\n",
    "    name = fam\n",
    "\n",
    "if ask == '2':\n",
    "    if gender == '1':\n",
    "        title = \"Mr.\"\n",
    "    elif gender == '2':\n",
    "        title = \"Ms.\"\n",
    "    elif gender == '3':\n",
    "        title = \"Mx.\"\n",
    "\n",
    "print(\"Good day, \",title,\" \",name,\"!\",sep=\"\")"
   ]
  },
  {
   "cell_type": "markdown",
   "metadata": {},
   "source": [
    "# Unbeatable robot"
   ]
  },
  {
   "cell_type": "code",
   "execution_count": 10,
   "metadata": {},
   "outputs": [
    {
     "name": "stdout",
     "output_type": "stream",
     "text": [
      "How many rounds?5\n",
      "Round 1\n",
      "1 for rock, 2 for paper, 3 for scissors1\n",
      "Computer chooses Paper\n",
      "Round 2\n",
      "1 for rock, 2 for paper, 3 for scissors0\n",
      "Invalid.\n",
      "1 for rock, 2 for paper, 3 for scissors4\n",
      "Invalid.\n",
      "1 for rock, 2 for paper, 3 for scissors1\n",
      "Computer chooses Paper\n",
      "Round 3\n",
      "1 for rock, 2 for paper, 3 for scissors2\n",
      "Computer chooses Scissors\n",
      "Round 4\n",
      "1 for rock, 2 for paper, 3 for scissors2\n",
      "Computer chooses Scissors\n",
      "Round 5\n",
      "1 for rock, 2 for paper, 3 for scissors3\n",
      "Computer chooses Rock\n",
      "Rock: 2\n",
      "Paper: 2\n",
      "Scissors: 1\n",
      "End\n"
     ]
    }
   ],
   "source": [
    "rounds = int(input(\"How many rounds?\"))\n",
    "paper = 0\n",
    "scissors = 0\n",
    "rock = 0\n",
    "for i in range(rounds):\n",
    "    choice = 0\n",
    "    print(\"Round\", i+1)\n",
    "    while choice != 1 and choice !=2 and choice != 3:\n",
    "        choice = int(input(\"1 for rock, 2 for paper, 3 for scissors\"))\n",
    "        if choice == 1 or choice == 2 or choice == 3:\n",
    "            break\n",
    "        else:\n",
    "            print(\"Invalid.\")\n",
    "    if choice == 1:\n",
    "        comp = \"Paper\"\n",
    "        rock += 1\n",
    "    elif choice == 2:\n",
    "        comp = \"Scissors\"\n",
    "        paper += 1\n",
    "    elif choice == 3:\n",
    "        comp = \"Rock\"\n",
    "        scissors += 1\n",
    "    print(\"Computer chooses\",comp)\n",
    "print(\"Rock:\", rock)\n",
    "print(\"Paper:\",paper)\n",
    "print(\"Scissors:\",scissors)\n",
    "print(\"End\")    "
   ]
  }
 ],
 "metadata": {
  "kernelspec": {
   "display_name": "Python 3",
   "language": "python",
   "name": "python3"
  },
  "language_info": {
   "codemirror_mode": {
    "name": "ipython",
    "version": 3
   },
   "file_extension": ".py",
   "mimetype": "text/x-python",
   "name": "python",
   "nbconvert_exporter": "python",
   "pygments_lexer": "ipython3",
   "version": "3.7.3"
  }
 },
 "nbformat": 4,
 "nbformat_minor": 2
}
